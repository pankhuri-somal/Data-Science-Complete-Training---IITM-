{
  "nbformat": 4,
  "nbformat_minor": 0,
  "metadata": {
    "colab": {
      "private_outputs": true,
      "provenance": []
    },
    "kernelspec": {
      "name": "python3",
      "display_name": "Python 3"
    },
    "language_info": {
      "name": "python"
    }
  },
  "cells": [
    {
      "cell_type": "code",
      "execution_count": null,
      "metadata": {
        "id": "TgQylnncJErv"
      },
      "outputs": [],
      "source": [
        "import qrcode\n",
        "img = qrcode.make('https://colab.research.google.com/drive/1SgQwQOgSnm_IYduZUOCcE9rqhK9_xTAg?usp=sharing')\n",
        "img.save('myqr.png')\n"
      ]
    },
    {
      "cell_type": "code",
      "source": [
        "# pip install qrcode"
      ],
      "metadata": {
        "id": "8zuolJ4DJbmo"
      },
      "execution_count": null,
      "outputs": []
    },
    {
      "cell_type": "code",
      "source": [
        "# Python Basic\n",
        "# Conditional Programming\n",
        "# Loops\n",
        "# Functional Programming\n",
        "# Module Creation\n",
        "# File Handling\n",
        "# Database connectivity\n",
        "# OOPs"
      ],
      "metadata": {
        "id": "-0Rme_eoJcHs"
      },
      "execution_count": null,
      "outputs": []
    },
    {
      "cell_type": "code",
      "source": [
        "a  = 'Naman'\n",
        "\n",
        "print(type(a))"
      ],
      "metadata": {
        "id": "cQMBSSX0MPko"
      },
      "execution_count": null,
      "outputs": []
    },
    {
      "cell_type": "code",
      "source": [
        "class IITM:\n",
        "\n",
        "  def intro():\n",
        "    print('Hello Buddy!!, how are you??')\n",
        "\n",
        "  def say_hello():\n",
        "    print('Hello!!')\n",
        "\n",
        "  def bye():\n",
        "    print('Bye Bye!!')\n"
      ],
      "metadata": {
        "id": "YLRZJK79MbQq"
      },
      "execution_count": null,
      "outputs": []
    },
    {
      "cell_type": "code",
      "source": [
        "a = int(45)\n",
        "print(type(a))"
      ],
      "metadata": {
        "id": "WMpjYS_JOfOw"
      },
      "execution_count": null,
      "outputs": []
    },
    {
      "cell_type": "code",
      "source": [
        "ayan = IITM()\n",
        "print(type(ayan))"
      ],
      "metadata": {
        "id": "xtGYDE5YOs20"
      },
      "execution_count": null,
      "outputs": []
    },
    {
      "cell_type": "code",
      "source": [
        "class Remote:\n",
        "\n",
        "  def volume_up():\n",
        "    print('Volume up by 1 unit')\n",
        "\n",
        "  def volume_down():\n",
        "    print('Volume down by 1 unit')\n",
        "\n",
        "  def power_on():\n",
        "    print('TV is ON')\n",
        "\n",
        "  def power_off():\n",
        "    print('TV is Off')\n",
        "\n",
        "\n"
      ],
      "metadata": {
        "id": "jzIvCVlASy8g"
      },
      "execution_count": null,
      "outputs": []
    },
    {
      "cell_type": "code",
      "source": [],
      "metadata": {
        "id": "uy9F-OBWiPLZ"
      },
      "execution_count": null,
      "outputs": []
    },
    {
      "cell_type": "code",
      "source": [
        "mi = Remote()\n",
        "print('Done')"
      ],
      "metadata": {
        "id": "FmwjV3yJUcLP"
      },
      "execution_count": null,
      "outputs": []
    },
    {
      "cell_type": "code",
      "source": [
        "# Software\n",
        "  # Packages\n",
        "    # Libraries\n",
        "      # Modules\n",
        "        # Class Concept\n",
        "          # Functional Programming\n",
        "            # coditional Programming\n",
        "                  # basic programming"
      ],
      "metadata": {
        "id": "yuMaCUcNO8Ez"
      },
      "execution_count": null,
      "outputs": []
    },
    {
      "cell_type": "code",
      "source": [
        "class Car:\n",
        "\n",
        "    def __init__(self):\n",
        "        # instance variables\n",
        "        self.color = 'Black'\n",
        "        self.wheel = 4\n",
        "        self.spare_wheel = 1\n",
        "        self.airbag_support = True\n",
        "        self.fuel_type = 'Petrol'\n",
        "        self.car_type = 'Sedan'\n",
        "        self.gear_type = 'Automatic'\n",
        "        print('Your Car is Ready!!')\n",
        "    # ====================================\n",
        "    #Features\n",
        "    def auto_park(self):\n",
        "        import IPython\n",
        "        url = '''https://cdn.shopify.com/s/files/1/0761/9962/5012/files/parking_sensor_blog_2_480x480.gif'''\n",
        "        display(IPython.display.Image(url))\n",
        "\n",
        "    def engine_on(self):\n",
        "        import pygame\n",
        "        pygame.init()\n",
        "        path = r'''C:\\Users\\salma\\Downloads\\car-engine-372477.mp3'''\n",
        "        music = pygame.mixer.Sound(path)\n",
        "        music.play()\n",
        "\n",
        "    def speed_up(self):\n",
        "        c = 10\n",
        "        while c<=200:\n",
        "            import time\n",
        "            print(f'Speed is Increasing by {c} km/hr')\n",
        "            c+= 10\n",
        "            display(clear= True)\n",
        "            time.sleep(0.5)\n",
        "\n",
        "            if c >=100:\n",
        "                print('You are crossing speed limit')\n",
        "                break\n",
        "\n",
        "    def drift_brake(self,drift = False):\n",
        "        if drift == True:\n",
        "            import pygame\n",
        "            pygame.init()\n",
        "            music = pygame.mixer.Sound(path)\n",
        "            music.play()\n",
        "            import IPython\n",
        "            url = '''https://media.tenor.com/puPGAEN97U0AAAAM/lol-mekro.gif'''\n",
        "            display(IPython.display.Image(url))\n",
        "\n",
        "        else:\n",
        "            print('Brake Applied!!')"
      ],
      "metadata": {
        "id": "1xGtpLAbiPnL"
      },
      "execution_count": null,
      "outputs": []
    },
    {
      "cell_type": "code",
      "source": [
        "kia = Car()"
      ],
      "metadata": {
        "id": "Myy-g3sYnatf"
      },
      "execution_count": null,
      "outputs": []
    },
    {
      "cell_type": "code",
      "source": [
        "kia.color"
      ],
      "metadata": {
        "id": "f90t3Sil72T5"
      },
      "execution_count": null,
      "outputs": []
    },
    {
      "cell_type": "code",
      "source": [
        "maruti = Car()"
      ],
      "metadata": {
        "id": "uyxPUk-d73Jh"
      },
      "execution_count": null,
      "outputs": []
    },
    {
      "cell_type": "code",
      "source": [
        "kia.color = 'white'"
      ],
      "metadata": {
        "id": "bMLdEi1r74K5"
      },
      "execution_count": null,
      "outputs": []
    },
    {
      "cell_type": "code",
      "source": [
        "maruti.color"
      ],
      "metadata": {
        "id": "loeOCgX47-J4"
      },
      "execution_count": null,
      "outputs": []
    },
    {
      "cell_type": "code",
      "source": [
        "class ATM:\n",
        "    def __init__(self):\n",
        "        self.pin = 1111\n",
        "        self.balance = 2000\n",
        "\n",
        "    def change_pin(self):\n",
        "        self.pin  = input('Enter New PIN: ')\n",
        "        print('You PIN has been changed!!')\n",
        "\n",
        "    def show_balance(self):\n",
        "        print(f'''Your Current Balance is Rs {self.balance} ''')\n",
        "\n",
        "    def atm_performance_status(self):\n",
        "        print('ATM working Fine 100%')"
      ],
      "metadata": {
        "id": "Xgt0HPzF7_Mm"
      },
      "execution_count": null,
      "outputs": []
    },
    {
      "cell_type": "code",
      "source": [
        "class ATM_version_1:\n",
        "    def __init__(self):\n",
        "        print('Object created Successfully!!')\n",
        "        self._pin = 1111 # protected variable\n",
        "        self._balance = 2000 # protected variable\n",
        "\n",
        "    def change_pin(self): # public method\n",
        "        self._pin  = input('Enter New PIN: ')\n",
        "        print('You PIN has been changed!!')\n",
        "\n",
        "    def show_balance(self):\n",
        "        print(f'''Your Current Balance is Rs {self._balance} ''')\n",
        "\n",
        "    def atm_performance_status(self):\n",
        "        print('ATM working Fine 100%')"
      ],
      "metadata": {
        "id": "MdtpP6eAF4s9"
      },
      "execution_count": null,
      "outputs": []
    },
    {
      "cell_type": "code",
      "source": [
        "class ATM_version_2:\n",
        "    def __init__(self):\n",
        "        print('Object created Successfully!!')\n",
        "        self.__pin = 1111 # private variable\n",
        "        self.__balance = 2000 # private variable\n",
        "\n",
        "    def change_pin(self): # public method\n",
        "        self.__pin  = input('Enter New PIN: ')\n",
        "        print('You PIN has been changed!!')\n",
        "\n",
        "    def show_balance(self):\n",
        "        print(f'''Your Current Balance is Rs {self.__balance} ''')\n",
        "\n",
        "    def __atm_performance_status(self): #private method\n",
        "        print('ATM working Fine 100%')"
      ],
      "metadata": {
        "id": "i48WgiZRF6ut"
      },
      "execution_count": null,
      "outputs": []
    },
    {
      "cell_type": "code",
      "source": [],
      "metadata": {
        "id": "qoLitgegF8w4"
      },
      "execution_count": null,
      "outputs": []
    }
  ]
}