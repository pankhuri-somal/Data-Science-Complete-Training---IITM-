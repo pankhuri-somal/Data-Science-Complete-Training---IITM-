{
  "nbformat": 4,
  "nbformat_minor": 0,
  "metadata": {
    "colab": {
      "private_outputs": true,
      "provenance": []
    },
    "kernelspec": {
      "name": "python3",
      "display_name": "Python 3"
    },
    "language_info": {
      "name": "python"
    }
  },
  "cells": [
    {
      "cell_type": "code",
      "execution_count": null,
      "metadata": {
        "id": "9ePsb-x0c-pM"
      },
      "outputs": [],
      "source": [
        "import qrcode\n",
        "img = qrcode.make('https://colab.research.google.com/drive/17AlUP_cO91nLa_0KxmU0QHqlg_GpZFuL?usp=sharing')\n",
        "img.save('myqr.png')\n"
      ]
    },
    {
      "cell_type": "code",
      "source": [
        "# pip install qrcode"
      ],
      "metadata": {
        "id": "hCKrS210dc6Z"
      },
      "execution_count": null,
      "outputs": []
    },
    {
      "cell_type": "code",
      "source": [
        "class A:\n",
        "\n",
        "    def i_am_a():\n",
        "        print('I am a Func of Class A')\n",
        "\n",
        "    def i_am_b():\n",
        "        print('I am b Func of Class B')\n",
        "\n",
        "\n",
        "class B:\n",
        "\n",
        "    def i_am_b():\n",
        "        print('I am b Func of Class B')"
      ],
      "metadata": {
        "id": "MzRINSLjddYX"
      },
      "execution_count": null,
      "outputs": []
    },
    {
      "cell_type": "code",
      "source": [
        "# simple Inheritance(single)\n",
        "# Multiple Inheritance\n",
        "# Multilevel Inheritance\n",
        "# Hybrid Inheritance"
      ],
      "metadata": {
        "id": "5zORfvZmhB8s"
      },
      "execution_count": null,
      "outputs": []
    },
    {
      "cell_type": "code",
      "source": [
        "# Simple Inheritance(single)"
      ],
      "metadata": {
        "id": "QRYdXCmehDek"
      },
      "execution_count": null,
      "outputs": []
    },
    {
      "cell_type": "code",
      "source": [
        "# class:"
      ],
      "metadata": {
        "id": "hz7j6F4RhFnu"
      },
      "execution_count": null,
      "outputs": []
    },
    {
      "cell_type": "code",
      "source": [
        "class BMW: # Parent Class, Main Class, Super Class, Base Class\n",
        "\n",
        "  def super_turbo_engine(self):\n",
        "    print('super_turbo_engine Fast Speed')\n",
        "\n",
        "class Audi(BMW): # Child Class, Sub Class\n",
        "\n",
        "  def auto_pilot(self):\n",
        "    print('Can run on Auto Pilot Mode!!')"
      ],
      "metadata": {
        "id": "-UMk_iQihNE0"
      },
      "execution_count": null,
      "outputs": []
    },
    {
      "cell_type": "code",
      "source": [
        "audi_r8 = Audi()"
      ],
      "metadata": {
        "id": "r3MdzCMvhkIN"
      },
      "execution_count": null,
      "outputs": []
    },
    {
      "cell_type": "code",
      "source": [],
      "metadata": {
        "id": "FlXfDP4Fjszh"
      },
      "execution_count": null,
      "outputs": []
    },
    {
      "cell_type": "code",
      "source": [
        "audi_r8.auto_pilot()"
      ],
      "metadata": {
        "id": "PrxX9ED9h797"
      },
      "execution_count": null,
      "outputs": []
    },
    {
      "cell_type": "code",
      "source": [
        "audi_r8.super_turbo_engine()"
      ],
      "metadata": {
        "id": "XI6WTbyih-n-"
      },
      "execution_count": null,
      "outputs": []
    },
    {
      "cell_type": "code",
      "source": [
        "# Multiple Inheritance"
      ],
      "metadata": {
        "id": "qL8U-Q39iZbK"
      },
      "execution_count": null,
      "outputs": []
    },
    {
      "cell_type": "code",
      "source": [
        "class Daily_Object:\n",
        "  def phone_case(self):\n",
        "    print('Strong Build Phone Case')\n",
        "\n",
        "class JBL:\n",
        "  def sonic_speaker(self):\n",
        "    print('High Quality Sound Speaker')\n",
        "\n",
        "class Samsung:\n",
        "  def screen_display(self):\n",
        "    print('4k HD Display')\n",
        "\n",
        "class Nvidia:\n",
        "  def motherboard(self):\n",
        "    print('Fast motherboard')\n",
        "\n",
        "class Sony:\n",
        "  def camera(self):\n",
        "    print('4k Camera')\n",
        "\n",
        "class Lava:\n",
        "  def charger(self):\n",
        "    print('SuperFast Charger From LAVA')\n",
        "\n",
        "\n",
        "class One_Plus:\n",
        "  def charger(self):\n",
        "    print('Original Superfast Charger!! From One_Plus')\n",
        "\n",
        "\n",
        "class Mobile(Daily_Object,JBL,Samsung,Nvidia,Sony,One_Plus,Lava):\n",
        "  def __init__(self):\n",
        "    print('Phone Object Created Successfully!!')\n",
        "\n",
        "  def charger(self):\n",
        "    print('Actual Charger From Mobile!!')"
      ],
      "metadata": {
        "id": "Im-_laTjjya2"
      },
      "execution_count": null,
      "outputs": []
    },
    {
      "cell_type": "code",
      "source": [
        "nothing = Mobile()"
      ],
      "metadata": {
        "id": "jSdXaxBwmGJC"
      },
      "execution_count": null,
      "outputs": []
    },
    {
      "cell_type": "code",
      "source": [
        "nothing.camera()"
      ],
      "metadata": {
        "id": "e_qJ9CtHmI0a"
      },
      "execution_count": null,
      "outputs": []
    },
    {
      "cell_type": "code",
      "source": [
        "nothing.screen_display()"
      ],
      "metadata": {
        "id": "tzr0Qz3rmxYk"
      },
      "execution_count": null,
      "outputs": []
    },
    {
      "cell_type": "code",
      "source": [
        "nothing.charger()"
      ],
      "metadata": {
        "id": "FaUVCDBUnq3C"
      },
      "execution_count": null,
      "outputs": []
    },
    {
      "cell_type": "code",
      "source": [
        "# a = 45\n",
        "# a = 56\n",
        "# print(a)"
      ],
      "metadata": {
        "id": "qU0ZkTNtpNCY"
      },
      "execution_count": null,
      "outputs": []
    },
    {
      "cell_type": "code",
      "source": [
        "# MultilLevel()"
      ],
      "metadata": {
        "id": "ImdmldtxqTV6"
      },
      "execution_count": null,
      "outputs": []
    },
    {
      "cell_type": "code",
      "source": [
        "class GrandFather: #SuperClass\n",
        "  def land_property(self):\n",
        "    print('Land Property!!')\n",
        "\n",
        "class Father(GrandFather): #Subclass\n",
        "  def bank_balance(self):\n",
        "    print('Big Money Player, Huge Bank Balance')\n",
        "\n",
        "class Son(Father): #Subclass\n",
        "  def political_power(self):\n",
        "    print('Political Powers')\n",
        "\n",
        "class GrandSon(Son): #Subclass\n",
        "  def mind(self):\n",
        "    print('Mind For Self Study!!')\n",
        "\n",
        "class Friend(GrandSon): #Subclass\n",
        "  def __init__(self):\n",
        "    print('Nothing!!')"
      ],
      "metadata": {
        "id": "LLidweWEsmPF"
      },
      "execution_count": null,
      "outputs": []
    },
    {
      "cell_type": "code",
      "source": [
        "aman = GrandSon()\n",
        "print('Done')"
      ],
      "metadata": {
        "id": "bjEHapVmtpCi"
      },
      "execution_count": null,
      "outputs": []
    },
    {
      "cell_type": "code",
      "source": [
        "aman.bank_balance()"
      ],
      "metadata": {
        "id": "ErFaee76ulJy"
      },
      "execution_count": null,
      "outputs": []
    },
    {
      "cell_type": "code",
      "source": [
        "aman.land_property()"
      ],
      "metadata": {
        "id": "rNSEZZ0UvGfg"
      },
      "execution_count": null,
      "outputs": []
    },
    {
      "cell_type": "code",
      "source": [
        "karan = Friend()"
      ],
      "metadata": {
        "id": "I_R9OvgLvH7w"
      },
      "execution_count": null,
      "outputs": []
    },
    {
      "cell_type": "code",
      "source": [
        "karan.political_power()"
      ],
      "metadata": {
        "id": "2r2KHPZOvbPU"
      },
      "execution_count": null,
      "outputs": []
    },
    {
      "cell_type": "code",
      "source": [
        "# Hybrid Inheritance"
      ],
      "metadata": {
        "id": "fFKLe_XywHm3"
      },
      "execution_count": null,
      "outputs": []
    },
    {
      "cell_type": "code",
      "source": [
        "class Hybrid_class(Mobile,Friend,Audi): # Mobile(Multiple), Friend(Multilevel)\n",
        "  def __init__(self):\n",
        "    print('This is a Hybrid Class')\n",
        "\n",
        "  def info(self):\n",
        "    print('It can call any methods!!')"
      ],
      "metadata": {
        "id": "8qL4dRgOxl-_"
      },
      "execution_count": null,
      "outputs": []
    },
    {
      "cell_type": "code",
      "source": [
        "ob = Hybrid_class()"
      ],
      "metadata": {
        "id": "dPVE2eO0ykGC"
      },
      "execution_count": null,
      "outputs": []
    },
    {
      "cell_type": "code",
      "source": [
        "ob.info()"
      ],
      "metadata": {
        "id": "yAZSrFxPzVqj"
      },
      "execution_count": null,
      "outputs": []
    },
    {
      "cell_type": "code",
      "source": [
        "class UGC:  # Parent Class\n",
        "  def __init__(self):\n",
        "    print('Grant Permission')\n",
        "  def college_approved(self):\n",
        "    print('College Has been Approved')\n",
        "\n",
        "class DU(UGC):\n",
        "  def multiple_colleges(self):\n",
        "    print('List of Colleges!!')\n",
        "\n",
        "class IP(UGC):\n",
        "  def multiple_colleges(self):\n",
        "    print('List of Colleges!!')\n",
        "\n",
        "\n",
        "class DTU(UGC):\n",
        "  def multiple_colleges(self):\n",
        "    print('List of Colleges!!')\n",
        "\n",
        "class BHU(UGC):\n",
        "  def multiple_colleges(self):\n",
        "    print('List of Colleges!!')"
      ],
      "metadata": {
        "id": "ZXd7D5MuzeL2"
      },
      "execution_count": null,
      "outputs": []
    },
    {
      "cell_type": "code",
      "source": [],
      "metadata": {
        "id": "U9pc5_UF3Cai"
      },
      "execution_count": null,
      "outputs": []
    },
    {
      "cell_type": "markdown",
      "source": [
        "# Polymorphism"
      ],
      "metadata": {
        "id": "aBRSg-JD4agY"
      }
    },
    {
      "cell_type": "code",
      "source": [
        "a = 34\n",
        "b = 45\n",
        "\n",
        "a + b"
      ],
      "metadata": {
        "id": "SD7Ai7bV4bs_"
      },
      "execution_count": null,
      "outputs": []
    },
    {
      "cell_type": "code",
      "source": [
        "a = '34'\n",
        "b = '45'\n",
        "\n",
        "a + b"
      ],
      "metadata": {
        "id": "llhq7ube4qSD"
      },
      "execution_count": null,
      "outputs": []
    },
    {
      "cell_type": "code",
      "source": [
        "a = [35,454,546]\n",
        "b = [35,45,654]\n",
        "\n",
        "a + b"
      ],
      "metadata": {
        "id": "nNPpmY0r4vRx"
      },
      "execution_count": null,
      "outputs": []
    },
    {
      "cell_type": "code",
      "source": [
        "a = 'harry'\n",
        "len(a)"
      ],
      "metadata": {
        "id": "iKZPtPsc49-9"
      },
      "execution_count": null,
      "outputs": []
    },
    {
      "cell_type": "code",
      "source": [
        "a = ['harry','jatin']\n",
        "len(a)"
      ],
      "metadata": {
        "id": "gWjhMFz25bEp"
      },
      "execution_count": null,
      "outputs": []
    },
    {
      "cell_type": "code",
      "source": [
        "def ste(a):\n",
        "  return str(a)\n",
        "\n",
        "a = ste(567)\n",
        "len(a)"
      ],
      "metadata": {
        "id": "dB70LN-x5eyl"
      },
      "execution_count": null,
      "outputs": []
    },
    {
      "cell_type": "code",
      "source": [
        "# overriding\n",
        "# overloading"
      ],
      "metadata": {
        "id": "xmlXk8eB528o"
      },
      "execution_count": null,
      "outputs": []
    },
    {
      "cell_type": "code",
      "source": [
        "a = 45\n",
        "\n",
        "a = '45'\n",
        "\n",
        "a = None\n",
        "\n",
        "print(a,type(a))"
      ],
      "metadata": {
        "id": "tBqVHqRk6mIV"
      },
      "execution_count": null,
      "outputs": []
    },
    {
      "cell_type": "code",
      "source": [
        "class Car:\n",
        "  def speed(self):\n",
        "    return('Max speed 200 km/hr')\n",
        "\n",
        "  def auto_pilot(self):\n",
        "    return('It supports Auto Pilot Mode!!')\n",
        "\n",
        "  def info(self):\n",
        "    return('This is just a car object')\n",
        "\n",
        "\n",
        "class Bmw(Car):\n",
        "  def speed(self):\n",
        "    return('Max speed 250 km/hr')\n",
        "\n",
        "  def info(self):\n",
        "    return('A BMW car object')\n",
        "\n",
        "\n",
        "\n",
        "class Audi(Car):\n",
        "  def speed(self):\n",
        "    return('Max speed 300 km/hr')\n",
        "\n",
        "  def info(self):\n",
        "    return('Audi car🏎️')\n",
        "\n",
        "\n",
        "\n",
        "\n",
        "\n",
        "for i in [Car,Bmw,Audi]:\n",
        "  f1 = i()\n",
        "  print('F1 Car Speed: ',f1.speed())\n",
        "\n"
      ],
      "metadata": {
        "id": "QUt7beDb7c5C"
      },
      "execution_count": null,
      "outputs": []
    },
    {
      "cell_type": "code",
      "source": [
        "f1 = Car()\n",
        "print(f1.speed())"
      ],
      "metadata": {
        "id": "MVzrsLC_9_is"
      },
      "execution_count": null,
      "outputs": []
    },
    {
      "cell_type": "code",
      "source": [
        "f1 = Bmw()\n",
        "print(f1.speed())"
      ],
      "metadata": {
        "id": "SrluP_Pw-jih"
      },
      "execution_count": null,
      "outputs": []
    },
    {
      "cell_type": "code",
      "source": [
        "f1 = Audi()\n",
        "print(f1.speed())"
      ],
      "metadata": {
        "id": "7Fk7_UJ6-neC"
      },
      "execution_count": null,
      "outputs": []
    },
    {
      "cell_type": "code",
      "source": [
        "class IITM:\n",
        "\n",
        "  def intro(self):\n",
        "    print('Hello Candidates!!')\n",
        "\n",
        "  def intro(self,name):\n",
        "    print(f'Hello {name},how are you??')\n",
        "\n",
        "  def intro(self,name,address):\n",
        "    print(f'Hello {name},how are you??')\n",
        "    print(f'Your Address is {address}')\n",
        "\n",
        "a = IITM()\n",
        "\n",
        "a.intro('Komal','Delhi')"
      ],
      "metadata": {
        "id": "vrMVMAUy-rTA"
      },
      "execution_count": null,
      "outputs": []
    },
    {
      "cell_type": "code",
      "source": [
        "class IITM:\n",
        "\n",
        "  def intro(self,name = None,address = None):\n",
        "    if (name == None) and (address == None):\n",
        "      print('Hello Candidates!!')\n",
        "\n",
        "    elif name != None and (address == None):\n",
        "      print(f'Hello {name},how are you??')\n",
        "\n",
        "    elif (name != None) and  (address != None):\n",
        "      print(f'Hello {name},how are you??')\n",
        "      print(f'Your Address is {address}')\n",
        "\n",
        "    else:\n",
        "      print('Hello Buddy!!')"
      ],
      "metadata": {
        "id": "cyzlcHyWM4Pg"
      },
      "execution_count": null,
      "outputs": []
    },
    {
      "cell_type": "code",
      "source": [
        "a = IITM()\n",
        "a.intro(address = 'Faridabad')"
      ],
      "metadata": {
        "id": "QGkyNMqjOlyb"
      },
      "execution_count": null,
      "outputs": []
    },
    {
      "cell_type": "code",
      "source": [
        "# Idea: BluePrint\n",
        "# Not a Physical Object\n",
        "# Abstraction:- project Management\n",
        "\n",
        "# class Website:\n",
        "#   def login()\n",
        "#   def logout()\n",
        "#   def signup()\n",
        "#   def updates()\n",
        "#   def maultiple_pages():"
      ],
      "metadata": {
        "id": "TfNql7tLQvwx"
      },
      "execution_count": null,
      "outputs": []
    },
    {
      "cell_type": "code",
      "source": [
        "from abc import ABC, abstractmethod\n",
        "\n",
        "class Website(ABC):\n",
        "\n",
        "  @abstractmethod\n",
        "  def login(self):\n",
        "    print('This is a Login method')\n",
        "\n",
        "  @abstractmethod\n",
        "  def logout(self):\n",
        "    print('A logout method')\n",
        "\n",
        "\n",
        "asus = Website()\n",
        "print('Done')"
      ],
      "metadata": {
        "id": "HFVeHuycYoeL"
      },
      "execution_count": null,
      "outputs": []
    },
    {
      "cell_type": "code",
      "source": [
        "print(2345656)\n",
        "\n"
      ],
      "metadata": {
        "id": "D2qchD2bZPPg"
      },
      "execution_count": null,
      "outputs": []
    },
    {
      "cell_type": "code",
      "source": [
        "class Nakul(Website):\n",
        "\n",
        "  def signup(self):\n",
        "    print('user can Signup!!')\n",
        "\n",
        "  def login(self):\n",
        "    print('This is a Login  Form')\n",
        "\n",
        "  def logout(self):\n",
        "    print('Use can logut')\n",
        "\n",
        "google = Nakul()\n"
      ],
      "metadata": {
        "id": "bZ972ke3bWKJ"
      },
      "execution_count": null,
      "outputs": []
    },
    {
      "cell_type": "code",
      "source": [
        "google.signup()"
      ],
      "metadata": {
        "id": "Jbqu_d8LcJyL"
      },
      "execution_count": null,
      "outputs": []
    },
    {
      "cell_type": "code",
      "source": [
        "google.login()"
      ],
      "metadata": {
        "id": "ncHnLkOicme7"
      },
      "execution_count": null,
      "outputs": []
    },
    {
      "cell_type": "code",
      "source": [
        "google.logout()"
      ],
      "metadata": {
        "id": "428in_jxcoC7"
      },
      "execution_count": null,
      "outputs": []
    },
    {
      "cell_type": "code",
      "source": [
        "google = Website()"
      ],
      "metadata": {
        "id": "q9-HsKm3cqdv"
      },
      "execution_count": null,
      "outputs": []
    },
    {
      "cell_type": "code",
      "source": [],
      "metadata": {
        "id": "fFZWfkDjdjll"
      },
      "execution_count": null,
      "outputs": []
    }
  ]
}