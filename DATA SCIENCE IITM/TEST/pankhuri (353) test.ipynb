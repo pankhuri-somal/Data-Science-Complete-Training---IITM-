{
 "cells": [
  {
   "cell_type": "code",
   "execution_count": 2,
   "id": "5211ced4-0f82-41d7-a29c-b73ac353c232",
   "metadata": {},
   "outputs": [
    {
     "name": "stdout",
     "output_type": "stream",
     "text": [
      "pankhuri\n"
     ]
    }
   ],
   "source": [
    "print('pankhuri')"
   ]
  },
  {
   "cell_type": "code",
   "execution_count": 4,
   "id": "786e63c6-2635-4060-98cd-aae35a57fa01",
   "metadata": {},
   "outputs": [],
   "source": [
    "#question 1\n",
    "#list:mutable                      tuple:immutable\n",
    "#list:[]                           tuple:()\n",
    "#list:eg:list=[1,2,3,4]            tuple:eg:tuple=(1,2,3,4)"
   ]
  },
  {
   "cell_type": "code",
   "execution_count": 5,
   "id": "41cb7300-5ecb-42e3-a514-be5b160c30cc",
   "metadata": {},
   "outputs": [],
   "source": [
    "#question 2\n",
    "#input() is used to take input form user\n",
    "#int:eg:  age=int(input('enter your age:'))"
   ]
  },
  {
   "cell_type": "code",
   "execution_count": 44,
   "id": "a8af3823-f02a-4980-ac8a-2f1ae18467d1",
   "metadata": {},
   "outputs": [
    {
     "data": {
      "text/html": [
       "<div>\n",
       "<style scoped>\n",
       "    .dataframe tbody tr th:only-of-type {\n",
       "        vertical-align: middle;\n",
       "    }\n",
       "\n",
       "    .dataframe tbody tr th {\n",
       "        vertical-align: top;\n",
       "    }\n",
       "\n",
       "    .dataframe thead th {\n",
       "        text-align: right;\n",
       "    }\n",
       "</style>\n",
       "<table border=\"1\" class=\"dataframe\">\n",
       "  <thead>\n",
       "    <tr style=\"text-align: right;\">\n",
       "      <th></th>\n",
       "      <th>name</th>\n",
       "      <th>age</th>\n",
       "      <th>course</th>\n",
       "    </tr>\n",
       "  </thead>\n",
       "  <tbody>\n",
       "    <tr>\n",
       "      <th>0</th>\n",
       "      <td>pankhuri</td>\n",
       "      <td>19</td>\n",
       "      <td>bca</td>\n",
       "    </tr>\n",
       "    <tr>\n",
       "      <th>1</th>\n",
       "      <td>lavanya</td>\n",
       "      <td>19</td>\n",
       "      <td>bca</td>\n",
       "    </tr>\n",
       "    <tr>\n",
       "      <th>2</th>\n",
       "      <td>arun</td>\n",
       "      <td>19</td>\n",
       "      <td>bca</td>\n",
       "    </tr>\n",
       "  </tbody>\n",
       "</table>\n",
       "</div>"
      ],
      "text/plain": [
       "       name  age course\n",
       "0  pankhuri   19    bca\n",
       "1   lavanya   19    bca\n",
       "2      arun   19    bca"
      ]
     },
     "execution_count": 44,
     "metadata": {},
     "output_type": "execute_result"
    }
   ],
   "source": [
    "#question 3\n",
    "#dictinaries-it contain row and column (2-d)\n",
    "           # key value pair\n",
    "           # use {}\n",
    "#eg :\n",
    "import pandas as pd\n",
    "data={'name':['pankhuri','lavanya','arun'],'age':[19,19,19],'course':['bca','bca','bca']}\n",
    "pd.DataFrame(data)\n",
    "              "
   ]
  },
  {
   "cell_type": "code",
   "execution_count": 10,
   "id": "79400e9b-55b4-484a-9dcc-3cd3e625c282",
   "metadata": {},
   "outputs": [
    {
     "name": "stdout",
     "output_type": "stream",
     "text": [
      "1\n",
      "2\n",
      "3\n",
      "4\n",
      "5\n"
     ]
    }
   ],
   "source": [
    "#question 4\n",
    "#for loop block of code that repeat where we know the number of iteration\n",
    "for i in range(1,6):\n",
    "    print(i)\n",
    "\n",
    "    "
   ]
  },
  {
   "cell_type": "code",
   "execution_count": 13,
   "id": "0eb7d68a-324b-41b7-a709-50c4e2b6c1dc",
   "metadata": {},
   "outputs": [
    {
     "name": "stdout",
     "output_type": "stream",
     "text": [
      " it is airthmetic exception\n"
     ]
    }
   ],
   "source": [
    "#question 5\n",
    "#exception handling is used to handle error that distrupt the flow of program\n",
    "#try:it will point that there error can happen  it is followed by except()\n",
    "#except:it will handle the error\n",
    "#finnaly:it \n",
    "class RST:\n",
    "    try:\n",
    "        m=10\n",
    "        n=0\n",
    "        ANS=m/n\n",
    "    except:\n",
    "        print(' it is airthmetic exception')"
   ]
  },
  {
   "cell_type": "code",
   "execution_count": 14,
   "id": "72b9e626-4a01-4748-b6e5-406bad3a69f9",
   "metadata": {},
   "outputs": [],
   "source": [
    "#question 6\n",
    "#python mudule are file that contain code\n",
    "#import math- here we call the math module \n",
    "#from math import sqrt - here we call sqrt(sqaure root) function from math module\n"
   ]
  },
  {
   "cell_type": "code",
   "execution_count": 30,
   "id": "f1186f12-9dbe-4438-ae7e-24de95013b02",
   "metadata": {},
   "outputs": [],
   "source": [
    "#question 7\n",
    "#object oriented programming:high level languge programming\n",
    "#4 pillars\n",
    "#encapsulation- hide sensative data\n",
    "#polymorphism: show one message in multiple form\n",
    "#inheritance: one class can inherit the property of another class\n",
    "#data abstraction:hide internal data \n",
    "#class:blueprint\n",
    "#object:instance of class\n",
    "class RST:\n",
    "    \n",
    "    def say_hello(self):\n",
    "        name=input('name:')\n",
    "        print(f'{name} hello buddy!!')\n",
    "    def say_bye(self):   \n",
    "        name=input('name:')\n",
    "        print(f'{name} bye buddy!!')"
   ]
  },
  {
   "cell_type": "code",
   "execution_count": 31,
   "id": "566aa320-4b03-483f-96a4-b03e6f878b07",
   "metadata": {},
   "outputs": [],
   "source": [
    "hii= RST()#hii is object of class RST # now hii will contain both function"
   ]
  },
  {
   "cell_type": "code",
   "execution_count": 32,
   "id": "254c3ff2-bb30-4188-8b18-38eaf4dbf628",
   "metadata": {},
   "outputs": [
    {
     "name": "stdin",
     "output_type": "stream",
     "text": [
      "name: pankhuri\n"
     ]
    },
    {
     "name": "stdout",
     "output_type": "stream",
     "text": [
      "pankhuri hello buddy!!\n"
     ]
    }
   ],
   "source": [
    "hii.say_hello()"
   ]
  },
  {
   "cell_type": "code",
   "execution_count": 33,
   "id": "769ea8f9-69db-4086-9192-b5fe551a0d0b",
   "metadata": {},
   "outputs": [
    {
     "name": "stdin",
     "output_type": "stream",
     "text": [
      "name: pankhuri\n"
     ]
    },
    {
     "name": "stdout",
     "output_type": "stream",
     "text": [
      "pankhuri bye buddy!!\n"
     ]
    }
   ],
   "source": [
    "hii.say_bye()"
   ]
  },
  {
   "cell_type": "code",
   "execution_count": 34,
   "id": "8cf88404-16b9-461d-bffe-f0ef57d14514",
   "metadata": {},
   "outputs": [],
   "source": [
    "#question 8\n"
   ]
  },
  {
   "cell_type": "code",
   "execution_count": 39,
   "id": "9a219faa-fd7d-47d8-bf77-cc5cebc86049",
   "metadata": {},
   "outputs": [],
   "source": [
    "#question 9\n",
    "def calculate_area():\n",
    "    radius = float(input('enter radius:'))\n",
    "    area =3.14*radius\n",
    "    print(f'area:{area}')\n"
   ]
  },
  {
   "cell_type": "code",
   "execution_count": 40,
   "id": "ea7b53ce-5895-446b-9b64-2a9b00b41c91",
   "metadata": {},
   "outputs": [
    {
     "name": "stdin",
     "output_type": "stream",
     "text": [
      "enter radius: 5\n"
     ]
    },
    {
     "name": "stdout",
     "output_type": "stream",
     "text": [
      "area:15.700000000000001\n"
     ]
    }
   ],
   "source": [
    "calculate_area()"
   ]
  },
  {
   "cell_type": "code",
   "execution_count": 41,
   "id": "1bff9532-fec5-479a-8f23-87a3b4f41538",
   "metadata": {},
   "outputs": [
    {
     "name": "stdin",
     "output_type": "stream",
     "text": [
      "enter your name pankhuri\n",
      "enter your age 19\n"
     ]
    },
    {
     "name": "stdout",
     "output_type": "stream",
     "text": [
      "hello pankhuri, you are 19 year old!\n"
     ]
    }
   ],
   "source": [
    "#question 10\n",
    "name = str(input('enter your name'))\n",
    "age= int(input('enter your age'))\n",
    "print(f'hello {name}, you are {age} year old!')"
   ]
  },
  {
   "cell_type": "code",
   "execution_count": 46,
   "id": "c137e9a4-8af6-4f11-9b41-3637b4661b3f",
   "metadata": {},
   "outputs": [
    {
     "name": "stdout",
     "output_type": "stream",
     "text": [
      "(1, 'mango')\n",
      "(2, 'apple')\n",
      "(3, 'lichi')\n",
      "(4, 'banana')\n",
      "(5, 'cherry')\n"
     ]
    }
   ],
   "source": [
    "#question 11\n",
    "fruit=['mango','apple','lichi','banana','cherry']\n",
    "for i in enumerate(fruit,1):\n",
    "    print(i)"
   ]
  },
  {
   "cell_type": "code",
   "execution_count": 51,
   "id": "814369cb-a581-4da3-b40e-1e182d43e0e4",
   "metadata": {},
   "outputs": [],
   "source": [
    "#question 12\n",
    "def grade_calculator():\n",
    "    sub_1=int(input('enter your subject 1 marks:'))\n",
    "    sub_2=int(input('enter your subject 2 marks:'))\n",
    "    sub_3=int(input('enter your subject 3 marks:'))\n",
    "    marks=sub_1+sub_2+sub_3\n",
    "    total_marks=0\n",
    "    if marks>90:\n",
    "        print('A')\n",
    "    elif marks>75:\n",
    "        print('B')\n",
    "    elif marks>50:\n",
    "        print('C')\n",
    "    elif marks>33:\n",
    "        print('D')\n",
    "    else:\n",
    "        print('F')\n",
    "    total_marks+=marks\n",
    "    max_marks=3*100\n",
    "    print(f'\\nTotal Marks:{total_marks}/{max_marks}')\n",
    "    percentage=total_marks/max_marks*100\n",
    "    print(f'Percentage:{percentage}')\n",
    "    if percentage >=33:\n",
    "        print('Result:PASS')\n",
    "    else:\n",
    "        print('Result:FAIL')\n",
    "        \n",
    "    "
   ]
  },
  {
   "cell_type": "code",
   "execution_count": 52,
   "id": "09c507af-d1f2-4647-bcd5-1bee7754236b",
   "metadata": {},
   "outputs": [
    {
     "name": "stdin",
     "output_type": "stream",
     "text": [
      "enter your subject 1 marks: 23\n",
      "enter your subject 2 marks: 23\n",
      "enter your subject 3 marks: 34\n"
     ]
    },
    {
     "name": "stdout",
     "output_type": "stream",
     "text": [
      "B\n",
      "\n",
      "Total Marks:80/300\n",
      "Percentage:26.666666666666668\n",
      "Result:FAIL\n"
     ]
    }
   ],
   "source": [
    "grade_calculator()"
   ]
  },
  {
   "cell_type": "code",
   "execution_count": null,
   "id": "c94d07d9-b636-4db5-8e6e-ce8e5585ab4a",
   "metadata": {},
   "outputs": [],
   "source": []
  }
 ],
 "metadata": {
  "kernelspec": {
   "display_name": "Python [conda env:base] *",
   "language": "python",
   "name": "conda-base-py"
  },
  "language_info": {
   "codemirror_mode": {
    "name": "ipython",
    "version": 3
   },
   "file_extension": ".py",
   "mimetype": "text/x-python",
   "name": "python",
   "nbconvert_exporter": "python",
   "pygments_lexer": "ipython3",
   "version": "3.13.5"
  }
 },
 "nbformat": 4,
 "nbformat_minor": 5
}
