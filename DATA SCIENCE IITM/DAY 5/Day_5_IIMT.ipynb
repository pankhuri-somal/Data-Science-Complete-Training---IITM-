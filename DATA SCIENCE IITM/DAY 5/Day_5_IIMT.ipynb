{
  "nbformat": 4,
  "nbformat_minor": 0,
  "metadata": {
    "colab": {
      "private_outputs": true,
      "provenance": []
    },
    "kernelspec": {
      "name": "python3",
      "display_name": "Python 3"
    },
    "language_info": {
      "name": "python"
    }
  },
  "cells": [
    {
      "cell_type": "code",
      "execution_count": null,
      "metadata": {
        "id": "oSD2TnWiJZA5"
      },
      "outputs": [],
      "source": [
        "import qrcode\n",
        "img = qrcode.make('https://colab.research.google.com/drive/1IAw00TMqgNmWZ1QKPTn_S23yKGiHYIEI?usp=sharing')\n",
        "img.save('myqr.png')\n"
      ]
    },
    {
      "cell_type": "code",
      "source": [
        "# pip install qrcode"
      ],
      "metadata": {
        "id": "M6a6Soc4J6Ew"
      },
      "execution_count": null,
      "outputs": []
    },
    {
      "cell_type": "code",
      "source": [
        "import pymysql as py\n",
        "print('Done')"
      ],
      "metadata": {
        "id": "yuI0VZ13J7iB"
      },
      "execution_count": null,
      "outputs": []
    },
    {
      "cell_type": "code",
      "source": [
        "pip install PyMySQL"
      ],
      "metadata": {
        "id": "VD2VJRkvKofy"
      },
      "execution_count": null,
      "outputs": []
    },
    {
      "cell_type": "code",
      "source": [
        "conn = py.connect(user = 'root',\n",
        "           password='1234',\n",
        "           host='localhost',\n",
        "           autocommit = True)\n",
        "\n",
        "print('Connection Created Successfully!!')\n",
        "print('Done')"
      ],
      "metadata": {
        "id": "3wHUEPAkK0ze"
      },
      "execution_count": null,
      "outputs": []
    },
    {
      "cell_type": "code",
      "source": [
        "query = '''create database IITM_day5;'''\n",
        "\n"
      ],
      "metadata": {
        "id": "jPKzc_qQbJZi"
      },
      "execution_count": null,
      "outputs": []
    },
    {
      "cell_type": "code",
      "source": [
        "query = '''insert into student_details\n",
        "values\n",
        "(101,\"Mohan Sharma\",\"BCA\",\"Delhi Janakpuri\",5000),\n",
        "(105,\"Ravi verma\",\"MCA\",\"South Delhi\",5500);\n",
        "'''\n",
        "\n"
      ],
      "metadata": {
        "id": "JLUu7agyhsvA"
      },
      "execution_count": null,
      "outputs": []
    },
    {
      "cell_type": "code",
      "source": [
        "select * from iitm_day5.student_details;"
      ],
      "metadata": {
        "id": "NUN0F7yTjwRq"
      },
      "execution_count": null,
      "outputs": []
    },
    {
      "cell_type": "code",
      "source": [
        "sid = int(input('Enter Roll No/SID: '))\n",
        "name = input('Enter your Name: ')\n",
        "course = input('Enter your Course: ')\n",
        "address = input('Enter your Address: ')\n",
        "scholarship = float(input('Enter your scholarship in RS: '))\n",
        "\n"
      ],
      "metadata": {
        "id": "LZzN0IHollKc"
      },
      "execution_count": null,
      "outputs": []
    },
    {
      "cell_type": "code",
      "source": [
        "sid = int(input('Enter Roll No/SID: '))\n",
        "name = input('Enter your Name: ')\n",
        "course = input('Enter your Course: ')\n",
        "address = input('Enter your Address: ')\n",
        "scholarship = float(input('Enter your scholarship in RS: '))\n",
        "\n",
        "q = f'''insert into student_details values\n",
        "({sid},\"{name}\",\"{course}\",\"{address}\",{scholarship});'''\n",
        "\n",
        "cur.execute(q)\n",
        "print('Done')"
      ],
      "metadata": {
        "id": "EM-Pe3glmg_j"
      },
      "execution_count": null,
      "outputs": []
    },
    {
      "cell_type": "code",
      "source": [
        "n = 3\n",
        "for i in range(n):\n",
        "    sid = int(input('Enter Roll No/SID: '))\n",
        "    name = input('Enter your Name: ')\n",
        "    course = input('Enter your Course: ')\n",
        "    address = input('Enter your Address: ')\n",
        "    scholarship = float(input('Enter your scholarship in RS: '))\n",
        "\n",
        "    q = f'''insert into student_details values\n",
        "    ({sid},\"{name}\",\"{course}\",\"{address}\",{scholarship});'''\n",
        "\n",
        "    cur.execute(q)\n",
        "    print('Record Inserted Successfully!!')\n",
        "print('Done')"
      ],
      "metadata": {
        "id": "5bUWJ4nzqN2B"
      },
      "execution_count": null,
      "outputs": []
    },
    {
      "cell_type": "code",
      "source": [
        "query = '''select * from student_details;'''\n",
        "cur.execute(query)\n",
        "\n",
        "records = cur.fetchall()\n",
        "\n",
        "all_columns = []\n",
        "for i in cur.description:\n",
        "    all_columns.append(i[0])\n",
        "\n",
        "\n",
        "import pandas as pd\n",
        "pd.DataFrame(records,columns=all_columns)"
      ],
      "metadata": {
        "id": "o_u6tzaevMnW"
      },
      "execution_count": null,
      "outputs": []
    },
    {
      "cell_type": "code",
      "source": [
        "\n",
        "def show_records(db,table):\n",
        "    query = f'''select * from {db}.{table};'''\n",
        "    cur.execute(query)\n",
        "\n",
        "    records = cur.fetchall()\n",
        "\n",
        "    all_columns = []\n",
        "    for i in cur.description:\n",
        "        all_columns.append(i[0])\n",
        "\n",
        "\n",
        "    import pandas as pd\n",
        "    df = pd.DataFrame(records,columns=all_columns)\n",
        "    return df"
      ],
      "metadata": {
        "id": "lg6572z61v0R"
      },
      "execution_count": null,
      "outputs": []
    }
  ]
}