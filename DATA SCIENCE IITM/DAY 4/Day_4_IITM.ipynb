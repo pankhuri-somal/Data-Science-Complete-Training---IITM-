{
  "nbformat": 4,
  "nbformat_minor": 0,
  "metadata": {
    "colab": {
      "private_outputs": true,
      "provenance": []
    },
    "kernelspec": {
      "name": "python3",
      "display_name": "Python 3"
    },
    "language_info": {
      "name": "python"
    }
  },
  "cells": [
    {
      "cell_type": "code",
      "execution_count": null,
      "metadata": {
        "id": "v2rpr3APMgbb"
      },
      "outputs": [],
      "source": [
        "import qrcode\n",
        "img = qrcode.make('https://colab.research.google.com/drive/1IAVgqPS3j0la59cGblPCAVijCBtu3WKL?usp=sharing')\n",
        "img.save('myqr.png')"
      ]
    },
    {
      "cell_type": "code",
      "source": [
        "# pip install qrcode"
      ],
      "metadata": {
        "id": "Egg21uEIMp5e"
      },
      "execution_count": null,
      "outputs": []
    },
    {
      "cell_type": "code",
      "source": [
        "# File Handling Part 2\n",
        "# Requests Module Example\n",
        "# OOPs and Pillars\n",
        "# Python to DB Connectivity!!"
      ],
      "metadata": {
        "id": "QAWmmZpuMwpz"
      },
      "execution_count": null,
      "outputs": []
    },
    {
      "cell_type": "code",
      "source": [
        "# Mode:\n",
        "# write: w\n",
        "# new file write/create\n",
        "\n",
        "\n",
        "f = open('day_4.txt',mode = 'w')\n",
        "f.write('This is Day 4 of DS training!!')\n",
        "f.close()\n",
        "print('Done')"
      ],
      "metadata": {
        "id": "J9573GyDNwOZ"
      },
      "execution_count": null,
      "outputs": []
    },
    {
      "cell_type": "code",
      "source": [
        "# pip install googlesearch-python"
      ],
      "metadata": {
        "id": "7QQoAtzTOh05"
      },
      "execution_count": null,
      "outputs": []
    },
    {
      "cell_type": "code",
      "source": [
        "from googlesearch import search\n",
        "data = search('IITM',num_results=10)\n",
        "\n",
        "all_data = []\n",
        "\n",
        "for i in data:\n",
        "  print(i)"
      ],
      "metadata": {
        "id": "2DF7Dqt4Pc3_"
      },
      "execution_count": null,
      "outputs": []
    },
    {
      "cell_type": "code",
      "source": [],
      "metadata": {
        "id": "312sgaLUP6V0"
      },
      "execution_count": null,
      "outputs": []
    }
  ]
}