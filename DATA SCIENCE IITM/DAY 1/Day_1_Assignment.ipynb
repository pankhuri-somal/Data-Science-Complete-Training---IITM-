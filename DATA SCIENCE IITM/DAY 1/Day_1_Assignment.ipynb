{
  "nbformat": 4,
  "nbformat_minor": 0,
  "metadata": {
    "colab": {
      "provenance": []
    },
    "kernelspec": {
      "name": "python3",
      "display_name": "Python 3"
    },
    "language_info": {
      "name": "python"
    }
  },
  "cells": [
    {
      "cell_type": "code",
      "execution_count": 1,
      "metadata": {
        "id": "UCkgY5PRVpIa"
      },
      "outputs": [],
      "source": [
        "#BUDGET CALCULATOR\n",
        "def Budget_cal():\n",
        "    try:\n",
        "        housing=float(input('enter your monthly Housing(mortgage payment or rent, HOA fees, property taxes):'))\n",
        "        groceries=float(input('enter your monthly Groceries: '))\n",
        "        travel_exp=float(input('enter your monthly Travel Expense: '))\n",
        "        personal_care=float(input('enter your monthly Personal care(clothes, grooming, and wellness activities): '))\n",
        "        education=float(input('enter your monthly Education:'))\n",
        "        total_living_expenses=housing+groceries+travel_exp+personal_care+education\n",
        "        print(f'Total Expenses :{total_living_expenses}')\n",
        "        salary=float(input('enter your salary: '))\n",
        "        savings=salary-total_living_expenses\n",
        "        if savings > 0:\n",
        "            print(f'you have saved :{savings}')\n",
        "        elif savings == 0:\n",
        "            print(f'no savings this month:{savings}')\n",
        "        else :\n",
        "            print(f'spending money:{savings}')\n",
        "    except:\n",
        "        print('enter valid data')"
      ]
    },
    {
      "cell_type": "code",
      "source": [
        " Budget_cal()"
      ],
      "metadata": {
        "colab": {
          "base_uri": "https://localhost:8080/"
        },
        "id": "ENIy7THLVsXR",
        "outputId": "4781ecda-954f-40bb-816b-449cf646f5f3"
      },
      "execution_count": 2,
      "outputs": [
        {
          "output_type": "stream",
          "name": "stdout",
          "text": [
            "enter your monthly Housing(mortgage payment or rent, HOA fees, property taxes):4356\n",
            "enter your monthly Groceries: 3555\n",
            "enter your monthly Travel Expense: 235\n",
            "enter your monthly Personal care(clothes, grooming, and wellness activities): 5353\n",
            "enter your monthly Education:3450\n",
            "Total Expenses :16949.0\n",
            "enter your salary: 12000\n",
            "spending money:-4949.0\n"
          ]
        }
      ]
    },
    {
      "cell_type": "code",
      "source": [
        "#VOTING ELIGiBILITY\n",
        "def voting_info():\n",
        "    try:\n",
        "        Name=str(input('Full Name:').upper())\n",
        "        Age=int(input('Age:'))\n",
        "        if Age>=18:\n",
        "            print(f'{Name}, you are allowed to vote in democratic process ')\n",
        "            print('''Now REGISTER for VOTER ID CARD \\n You need proof like : 1)Proof of Identity: It acts as a primary identification document.\n",
        "                       2) Proof of Address: It verifies your residential address.\n",
        "                       3) Eligibility to Vote: It certifies that you are eligible to vote in local, state, and national elections.''')\n",
        "        else:\n",
        "            year=18-Age\n",
        "            print(f'{Name},you are not allowed to vote')\n",
        "            print(f'''A legal voting age is 18 but you are still younger than that \\n YOU WILL ALLOW AFTER  {year} YEARS ''')\n",
        "\n",
        "    except:\n",
        "        print('something went worng')"
      ],
      "metadata": {
        "id": "TviHHuvZVwQC"
      },
      "execution_count": 3,
      "outputs": []
    },
    {
      "cell_type": "code",
      "source": [
        "voting_info()"
      ],
      "metadata": {
        "colab": {
          "base_uri": "https://localhost:8080/"
        },
        "id": "mrVXZtrBV9UU",
        "outputId": "7f0a8ebf-250d-4034-cf7f-ca1277c38634"
      },
      "execution_count": 4,
      "outputs": [
        {
          "output_type": "stream",
          "name": "stdout",
          "text": [
            "Full Name:amit kumar\n",
            "Age:21\n",
            "AMIT KUMAR, you are allowed to vote in democratic process \n",
            "Now REGISTER for VOTER ID CARD \n",
            " You need proof like : 1)Proof of Identity: It acts as a primary identification document.\n",
            "                       2) Proof of Address: It verifies your residential address.\n",
            "                       3) Eligibility to Vote: It certifies that you are eligible to vote in local, state, and national elections.\n"
          ]
        }
      ]
    },
    {
      "cell_type": "code",
      "source": [
        "voting_info()"
      ],
      "metadata": {
        "colab": {
          "base_uri": "https://localhost:8080/"
        },
        "id": "vT68QSd_V_m7",
        "outputId": "cc270911-3427-4170-d8ca-dc0142f07f21"
      },
      "execution_count": 5,
      "outputs": [
        {
          "output_type": "stream",
          "name": "stdout",
          "text": [
            "Full Name:shanaya\n",
            "Age:15\n",
            "SHANAYA,you are not allowed to vote\n",
            "A legal voting age is 18 but you are still younger than that \n",
            " YOU WILL ALLOW AFTER  3 YEARS \n"
          ]
        }
      ]
    },
    {
      "cell_type": "code",
      "source": [
        "#GUESS THE ATM PIN\n",
        "def atm_pin_guess():\n",
        "    print('GUESS ATM PIN')\n",
        "    try:\n",
        "        import random\n",
        "        user_attempts=3\n",
        "        pin=random.randint(1000,9999)\n",
        "\n",
        "        while user_attempts>0:\n",
        "            user_pin=int(input('ENTER YOUR 4-DIGIT PIN:'))\n",
        "\n",
        "\n",
        "            if user_pin==pin:\n",
        "                print('PIN IS CORRECT ')\n",
        "                break\n",
        "\n",
        "            else:\n",
        "                user_attempts = user_attempts-1\n",
        "                if user_attempts>0:\n",
        "                    print('INCORRECT PIN')\n",
        "                    print(f'ATTEMPT LEFT:{user_attempts}')\n",
        "                else:\n",
        "                    print('CARD BLOCKED')\n",
        "       # print(f'Correct:{pin}')\n",
        "\n",
        "    except:\n",
        "         print('''SOMETHING WENT WRONG!!\\n ENTER CORRECT DATA''')\n",
        "\n",
        "\n",
        "\n",
        ""
      ],
      "metadata": {
        "id": "5JUfKJAkWFQV"
      },
      "execution_count": 6,
      "outputs": []
    },
    {
      "cell_type": "code",
      "source": [
        "atm_pin_guess()"
      ],
      "metadata": {
        "colab": {
          "base_uri": "https://localhost:8080/"
        },
        "id": "LyG74PbHWMgE",
        "outputId": "f829fa9d-5e02-491f-9a74-33033689a286"
      },
      "execution_count": 7,
      "outputs": [
        {
          "output_type": "stream",
          "name": "stdout",
          "text": [
            "GUESS ATM PIN\n",
            "ENTER YOUR 4-DIGIT PIN:2873\n",
            "INCORRECT PIN\n",
            "ATTEMPT LEFT:2\n",
            "ENTER YOUR 4-DIGIT PIN:2389\n",
            "INCORRECT PIN\n",
            "ATTEMPT LEFT:1\n",
            "ENTER YOUR 4-DIGIT PIN:3292\n",
            "CARD BLOCKED\n"
          ]
        }
      ]
    },
    {
      "cell_type": "code",
      "source": [
        "#STUDENT REPORT CARD\n",
        "print('STUDENT REPORT CARD')\n",
        "print('''Student Name : NAMAN     Class: VII-A''')\n",
        "sub_marks={'Maths':57,'English':89,'Hindi':76,'Science':45,'S.St':33}\n",
        "print('\\nSUBJECT MARKS')\n",
        "total_marks=0\n",
        "for subject,marks in sub_marks.items():\n",
        "    if marks>=90:\n",
        "        grade='A'\n",
        "    elif marks>=75:\n",
        "        grade='B'\n",
        "    elif marks>=50:\n",
        "        grade='C'\n",
        "    elif marks>=27:\n",
        "       grade='D'\n",
        "    else:\n",
        "       grade='F'\n",
        "    total_marks+=marks\n",
        "    print(f'{subject}:{marks}  Grade:{grade}')\n",
        "\n",
        "max_marks=len(sub_marks)*100\n",
        "print(f'\\nTotal Marks:{total_marks}/{max_marks}')\n",
        "percentage=total_marks/max_marks*100\n",
        "print(f'Percentage:{percentage}')\n",
        "if percentage >=33:\n",
        "    print('Result:PASS')\n",
        "else:\n",
        "    print('Result:FAIL')\n",
        "\n",
        ""
      ],
      "metadata": {
        "colab": {
          "base_uri": "https://localhost:8080/"
        },
        "id": "P64QTxW9WO5P",
        "outputId": "7bd54ec8-4071-429c-b085-a648a79308cc"
      },
      "execution_count": 8,
      "outputs": [
        {
          "output_type": "stream",
          "name": "stdout",
          "text": [
            "STUDENT REPORT CARD\n",
            "Student Name : NAMAN     Class: VII-A\n",
            "\n",
            "SUBJECT MARKS\n",
            "Maths:57  Grade:C\n",
            "English:89  Grade:B\n",
            "Hindi:76  Grade:B\n",
            "Science:45  Grade:D\n",
            "S.St:33  Grade:D\n",
            "\n",
            "Total Marks:300/500\n",
            "Percentage:60.0\n",
            "Result:PASS\n"
          ]
        }
      ]
    },
    {
      "cell_type": "code",
      "source": [
        "#RAILWAY SEAT BOOKING SYSTEM\n",
        "def railway_seat_booking():\n",
        "    print('Welecome to Railway Seat Booking System')\n",
        "    print('Train:Vande Bharat Express')\n",
        "    print('Route:New Delhi 🡒 Varanasi')\n",
        "    seat={}\n",
        "    for i in range(1,21):\n",
        "        seat[f'S{i}']=None\n",
        "    def seat_availability():\n",
        "        print('Seat Availability:')\n",
        "        for seat_no,passenger in seat.items():\n",
        "            if passenger is  None:\n",
        "                print(f'{seat_no} is Available')\n",
        "            else:\n",
        "                print(f'{seat_no} Booked by {passenger}')\n",
        "    def book_seat():\n",
        "        seat_no =input('Enter Seat Number:').upper()\n",
        "        if seat_no in seat:\n",
        "            if seat[seat_no] is None:\n",
        "                name = input(\"Enter passenger name: \").upper()\n",
        "                seat[seat_no] = name\n",
        "                print(f\"Seat {seat_no} successfully booked for {name}!\")\n",
        "            else:\n",
        "                print(f\"Seat {seat_no} is already booked by {seat[seat_no]}.\")\n",
        "        else:\n",
        "            print(\"Invalid seat number.\")\n",
        "\n",
        "    while True:\n",
        "        print(\"1. View Seat Availability\")\n",
        "        print(\"2. Book a Seat\")\n",
        "        print(\"3. Exit\")\n",
        "        choice = input(\"Enter your choice (1/2/3): \")\n",
        "        if choice == '1':\n",
        "            seat_availability()\n",
        "        elif choice == '2':\n",
        "            book_seat()\n",
        "        else :\n",
        "            print(\"Thank you for using the Railway Booking System!\")\n",
        "            break"
      ],
      "metadata": {
        "id": "p-d4zCYGWVqH"
      },
      "execution_count": 12,
      "outputs": []
    },
    {
      "cell_type": "code",
      "source": [
        "railway_seat_booking()"
      ],
      "metadata": {
        "colab": {
          "base_uri": "https://localhost:8080/"
        },
        "id": "uY3Kfx9HWZPw",
        "outputId": "41228f77-d178-4e36-d9b5-c167c7361748"
      },
      "execution_count": 17,
      "outputs": [
        {
          "output_type": "stream",
          "name": "stdout",
          "text": [
            "Welecome to Railway Seat Booking System\n",
            "Train:Vande Bharat Express\n",
            "Route:New Delhi 🡒 Varanasi\n",
            "1. View Seat Availability\n",
            "2. Book a Seat\n",
            "3. Exit\n",
            "Enter your choice (1/2/3): 1\n",
            "Seat Availability:\n",
            "S1 is Available\n",
            "S2 is Available\n",
            "S3 is Available\n",
            "S4 is Available\n",
            "S5 is Available\n",
            "S6 is Available\n",
            "S7 is Available\n",
            "S8 is Available\n",
            "S9 is Available\n",
            "S10 is Available\n",
            "S11 is Available\n",
            "S12 is Available\n",
            "S13 is Available\n",
            "S14 is Available\n",
            "S15 is Available\n",
            "S16 is Available\n",
            "S17 is Available\n",
            "S18 is Available\n",
            "S19 is Available\n",
            "S20 is Available\n",
            "1. View Seat Availability\n",
            "2. Book a Seat\n",
            "3. Exit\n",
            "Enter your choice (1/2/3): 2\n",
            "Enter Seat Number:s4\n",
            "Enter passenger name: aryan\n",
            "Seat S4 successfully booked for ARYAN!\n",
            "1. View Seat Availability\n",
            "2. Book a Seat\n",
            "3. Exit\n",
            "Enter your choice (1/2/3): 2\n",
            "Enter Seat Number:s4\n",
            "Seat S4 is already booked by ARYAN.\n",
            "1. View Seat Availability\n",
            "2. Book a Seat\n",
            "3. Exit\n",
            "Enter your choice (1/2/3): 2\n",
            "Enter Seat Number:s5\n",
            "Enter passenger name: arun\n",
            "Seat S5 successfully booked for ARUN!\n",
            "1. View Seat Availability\n",
            "2. Book a Seat\n",
            "3. Exit\n",
            "Enter your choice (1/2/3): 3\n",
            "Thank you for using the Railway Booking System!\n"
          ]
        }
      ]
    },
    {
      "cell_type": "code",
      "source": [
        "1"
      ],
      "metadata": {
        "id": "6WGmtjaeWcKD"
      },
      "execution_count": 11,
      "outputs": []
    }
  ]
}